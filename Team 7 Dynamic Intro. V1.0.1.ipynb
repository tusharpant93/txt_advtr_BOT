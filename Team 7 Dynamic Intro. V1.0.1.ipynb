{
 "cells": [
  {
   "cell_type": "code",
   "execution_count": 1,
   "metadata": {
    "ExecuteTime": {
     "end_time": "2020-10-11T15:50:57.744206Z",
     "start_time": "2020-10-11T15:47:06.779500Z"
    }
   },
   "outputs": [
    {
     "name": "stdout",
     "output_type": "stream",
     "text": [
      "\n",
      "----------------------------------------\n",
      "Hello World! We are team 7. We are a very diverse team. \n",
      "We have created this mini game to help you guys know us better.\n",
      "You will be given the following paragraph with some blanks. Try to fill those blanks and see what you can get.\n",
      "For each blank there's a hint related to it. Read the paragraphs first and refer to the hint! \n",
      "\n",
      "\n",
      "\n",
      "Elisa is from Italy. She is [ Q1 ] (as per being from Italy) and she cannot resist [ Q2 ]. \n",
      "Xoshil is from Honduras. She's usually quiet but she loves [ Q3 ]. \n",
      "Ziwei is from China. Surprisingly, he is bad in [ Q4 ] although he's Chinese. He loves cooking and [ Q5 ]. \n",
      "Tushar is from India. He likes [ Q6 ]. We believe he loves his [ Q7 ] 3000 times.\n",
      "\n",
      "All of us have undergraduate degrees related to [ Q8 ]. Not all of us have [ Q9 ] experience before. \n",
      "The average working experience of our team is [ Q10 ] year. All of us are attending in-person courses in Boston.\n",
      "\n",
      "We are glad to be here and spend the rest of the academic year with you guys!\n",
      "\n",
      "\n",
      "\n",
      "\n",
      " Press ENTER to continue\n",
      "Q1. How is Elisa like(typical Italian?)?\n",
      "Hot\n",
      "Q2. There's no hint for this one haha\n",
      "Italians are Hot.\n",
      "Q3. a sport related to animals\n",
      "Polo\n",
      "Q4. That's something you must have learned which Chinese are usually good at\n",
      "Technology\n",
      "Q5. Something you do everyday\n",
      "Networking\n",
      "Q6. A sport invented by British people\n",
      "Cricket\n",
      "Q7. Ok, well, a person. No more hints\n",
      "Brother\n",
      "Q8. Something we are studying for\n",
      "BBA\n",
      "Q9. We would love to have such experience before\n",
      "Meeting me\n",
      "Q10. Not too long\n",
      "1 day\n",
      "\n",
      "----------------------------------------\n",
      "\n",
      "Hello World! We are team 7. We are a very diverse team.\n",
      "\n",
      "Elisa is from Italy. She is Hot (as per being from Italy) and she cannot resist Italians are Hot.. \n",
      "Xoshil is from Honduras. She's usually quiet but she loves Polo. \n",
      "Ziwei is from China. Surprisingly, he is bad in Technology although he's Chinese. He loves cooking and Networking. \n",
      "Tushar is from India. He likes Cricket. We believe he loves his Brother 3000 times.\n",
      "\n",
      "All of us have undergraduate degrees related to BBA. Not all of us have Meeting me experience before. \n",
      "The average working experience of our team is 1 day year. All of us are attending in-person courses in Boston.\n",
      "\n",
      "We are glad to be here and spend the rest of the academic year with you guys!\n",
      "\n",
      "The correct answer is at the end of the program.\n",
      "\n",
      "\n",
      "\n"
     ]
    }
   ],
   "source": [
    "print(f\"\"\"\n",
    "{'-' * 40}\n",
    "Hello World! We are team 7. We are a very diverse team. \n",
    "We have created this mini game to help you guys know us better.\n",
    "You will be given the following paragraph with some blanks. Try to fill those blanks and see what you can get.\n",
    "For each blank there's a hint related to it. Read the paragraphs first and refer to the hint! \n",
    "\n",
    "\n",
    "\n",
    "Elisa is from Italy. She is [ Q1 ] (as per being from Italy) and she cannot resist [ Q2 ]. \n",
    "Xoshil is from Honduras. She's usually quiet but she loves [ Q3 ]. \n",
    "Ziwei is from China. Surprisingly, he is bad in [ Q4 ] although he's Chinese. He loves cooking and [ Q5 ]. \n",
    "Tushar is from India. He likes [ Q6 ]. We believe he loves his [ Q7 ] 3000 times.\n",
    "\n",
    "All of us have undergraduate degrees related to [ Q8 ]. Not all of us have [ Q9 ] experience before. \n",
    "The average working experience of our team is [ Q10 ] year. All of us are attending in-person courses in Boston.\n",
    "\n",
    "We are glad to be here and spend the rest of the academic year with you guys!\n",
    "\n",
    "\n",
    "\n",
    "\"\"\")\n",
    "input(prompt=\" Press ENTER to continue\")\n",
    "\n",
    "adj = input(prompt=\"Q1. How is Elisa like(typical Italian?)?\\n\")\n",
    "animal = input(prompt=\"Q2. There's no hint for this one haha\\n\")\n",
    "sport1 = input(prompt=\"Q3. a sport related to animals\\n\")\n",
    "subject1 = input(prompt=\"Q4. That's something you must have learned which Chinese are usually good at\\n\")\n",
    "doing1 = input(prompt=\"Q5. Something you do everyday\\n\")\n",
    "sport2 = input(prompt=\"Q6. A sport invented by British people\\n\")\n",
    "person = input(prompt=\"Q7. Ok, well, a person. No more hints\\n\")\n",
    "subject2 = input(prompt=\"Q8. Something we are studying for\\n\")\n",
    "subject3 = input(prompt=\"Q9. We would love to have such experience before\\n\")\n",
    "year = input(prompt=\"Q10. Not too long\\n\")\n",
    "\n",
    "\n",
    "\n",
    "\n",
    "print(f\"\"\"\n",
    "{'-' * 40}\n",
    "\n",
    "Hello World! We are team 7. We are a very diverse team.\n",
    "\n",
    "Elisa is from Italy. She is {adj} (as per being from Italy) and she cannot resist {animal}. \n",
    "Xoshil is from Honduras. She's usually quiet but she loves {sport1}. \n",
    "Ziwei is from China. Surprisingly, he is bad in {subject1} although he's Chinese. He loves cooking and {doing1}. \n",
    "Tushar is from India. He likes {sport2}. We believe he loves his {person} 3000 times.\n",
    "\n",
    "All of us have undergraduate degrees related to {subject2}. Not all of us have {subject3} experience before. \n",
    "The average working experience of our team is {year} year. All of us are attending in-person courses in Boston.\n",
    "\n",
    "We are glad to be here and spend the rest of the academic year with you guys!\n",
    "\n",
    "The correct answer is at the end of the program.\n",
    "\n",
    "\n",
    "\"\"\")"
   ]
  },
  {
   "cell_type": "markdown",
   "metadata": {},
   "source": [
    "Hello World! We are team 7. We are a very diverse team.\n",
    "\n",
    "Elisa is from Italy. She is loud (as per being from Italy) and she cannot resist cats. Xoshil is from Honduras. She's usually quiet but she loves riding horse. Ziwei is from China. Surprisingly, he is bad in math although he's Chinese. He loves cooking and eating. Tushar is from India. He likes cricket. We believe he loves his girlfriend 3000 times.\n",
    "\n",
    "All of us have undergraduate degrees related to business. Not all of us have coding experience before. The average working experience of our team is 1 year. All of us are attending in-person courses in Boston.\n",
    "\n",
    "We are glad to be here and spend the rest of the academic year with you guys!"
   ]
  },
  {
   "cell_type": "code",
   "execution_count": null,
   "metadata": {},
   "outputs": [],
   "source": []
  }
 ],
 "metadata": {
  "hide_input": false,
  "kernelspec": {
   "display_name": "Python 3",
   "language": "python",
   "name": "python3"
  },
  "language_info": {
   "codemirror_mode": {
    "name": "ipython",
    "version": 3
   },
   "file_extension": ".py",
   "mimetype": "text/x-python",
   "name": "python",
   "nbconvert_exporter": "python",
   "pygments_lexer": "ipython3",
   "version": "3.8.3"
  },
  "latex_envs": {
   "LaTeX_envs_menu_present": true,
   "autoclose": false,
   "autocomplete": true,
   "bibliofile": "biblio.bib",
   "cite_by": "apalike",
   "current_citInitial": 1,
   "eqLabelWithNumbers": true,
   "eqNumInitial": 1,
   "hotkeys": {
    "equation": "Ctrl-E",
    "itemize": "Ctrl-I"
   },
   "labels_anchors": false,
   "latex_user_defs": false,
   "report_style_numbering": false,
   "user_envs_cfg": false
  },
  "nbTranslate": {
   "displayLangs": [
    "*"
   ],
   "hotkey": "alt-t",
   "langInMainMenu": true,
   "sourceLang": "en",
   "targetLang": "fr",
   "useGoogleTranslate": true
  },
  "toc": {
   "base_numbering": 1,
   "nav_menu": {},
   "number_sections": true,
   "sideBar": true,
   "skip_h1_title": false,
   "title_cell": "Table of Contents",
   "title_sidebar": "Contents",
   "toc_cell": false,
   "toc_position": {},
   "toc_section_display": true,
   "toc_window_display": false
  },
  "varInspector": {
   "cols": {
    "lenName": 16,
    "lenType": 16,
    "lenVar": 40
   },
   "kernels_config": {
    "python": {
     "delete_cmd_postfix": "",
     "delete_cmd_prefix": "del ",
     "library": "var_list.py",
     "varRefreshCmd": "print(var_dic_list())"
    },
    "r": {
     "delete_cmd_postfix": ") ",
     "delete_cmd_prefix": "rm(",
     "library": "var_list.r",
     "varRefreshCmd": "cat(var_dic_list()) "
    }
   },
   "types_to_exclude": [
    "module",
    "function",
    "builtin_function_or_method",
    "instance",
    "_Feature"
   ],
   "window_display": false
  }
 },
 "nbformat": 4,
 "nbformat_minor": 4
}
